{
  "nbformat": 4,
  "nbformat_minor": 0,
  "metadata": {
    "colab": {
      "name": "Reply_Preprocessing.ipynb",
      "provenance": [],
      "collapsed_sections": [],
      "toc_visible": true,
      "mount_file_id": "1-DS7GuTLNbzTgUcSMXFW4xAYjRk1LX2A",
      "authorship_tag": "ABX9TyOXrqUjli/YyXiL4QAqEmHW",
      "include_colab_link": true
    },
    "kernelspec": {
      "name": "python3",
      "display_name": "Python 3"
    },
    "accelerator": "GPU"
  },
  "cells": [
    {
      "cell_type": "markdown",
      "metadata": {
        "id": "view-in-github",
        "colab_type": "text"
      },
      "source": [
        "<a href=\"https://colab.research.google.com/github/jisang93/KOR_Sentiment_Analysis/blob/master/Data_Preprocessing/Reply_Preprocessing.ipynb\" target=\"_parent\"><img src=\"https://colab.research.google.com/assets/colab-badge.svg\" alt=\"Open In Colab\"/></a>"
      ]
    },
    {
      "cell_type": "code",
      "metadata": {
        "id": "rXNR2qmhUWFi",
        "colab_type": "code",
        "colab": {}
      },
      "source": [
        "import pandas as pd\n",
        "from tqdm import tqdm\n",
        "import os, csv"
      ],
      "execution_count": 3,
      "outputs": []
    },
    {
      "cell_type": "markdown",
      "metadata": {
        "id": "ORaBBQuXUKNX",
        "colab_type": "text"
      },
      "source": [
        "# **네이버 영화**"
      ]
    },
    {
      "cell_type": "code",
      "metadata": {
        "id": "Qu0yNn10Knp6",
        "colab_type": "code",
        "colab": {}
      },
      "source": [
        "file_path = os.path.join('/content/drive/My Drive/머신러닝/팀 프로젝트/국어 경진대회/Data Set/Movie', f\"ratings.txt\")\n",
        "movie_reply = []\n",
        "with open(file_path, \"r\", encoding=\"utf-8\") as r:\n",
        "    reader = csv.reader(r, delimiter=\"\\t\")\n",
        "    next(reader, None)\n",
        "    for line in reader:\n",
        "        movie_content = {'content' : 0, 'label' : 0}\n",
        "        movie_content['content'] = line[1]\n",
        "        movie_content['label'] = line[2]\n",
        "        movie_reply.append(movie_content)"
      ],
      "execution_count": 2,
      "outputs": []
    },
    {
      "cell_type": "code",
      "metadata": {
        "id": "880yXf3MySxL",
        "colab_type": "code",
        "colab": {
          "base_uri": "https://localhost:8080/",
          "height": 195
        },
        "outputId": "958716cb-2b8c-4424-b5de-15174d3e106f"
      },
      "source": [
        "movie = pd.DataFrame(movie_reply)\n",
        "movie.head()"
      ],
      "execution_count": 3,
      "outputs": [
        {
          "output_type": "execute_result",
          "data": {
            "text/html": [
              "<div>\n",
              "<style scoped>\n",
              "    .dataframe tbody tr th:only-of-type {\n",
              "        vertical-align: middle;\n",
              "    }\n",
              "\n",
              "    .dataframe tbody tr th {\n",
              "        vertical-align: top;\n",
              "    }\n",
              "\n",
              "    .dataframe thead th {\n",
              "        text-align: right;\n",
              "    }\n",
              "</style>\n",
              "<table border=\"1\" class=\"dataframe\">\n",
              "  <thead>\n",
              "    <tr style=\"text-align: right;\">\n",
              "      <th></th>\n",
              "      <th>content</th>\n",
              "      <th>label</th>\n",
              "    </tr>\n",
              "  </thead>\n",
              "  <tbody>\n",
              "    <tr>\n",
              "      <th>0</th>\n",
              "      <td>어릴때보고 지금다시봐도 재밌어요ㅋㅋ</td>\n",
              "      <td>1</td>\n",
              "    </tr>\n",
              "    <tr>\n",
              "      <th>1</th>\n",
              "      <td>디자인을 배우는 학생으로, 외국디자이너와 그들이 일군 전통을 통해 발전해가는 문화산...</td>\n",
              "      <td>1</td>\n",
              "    </tr>\n",
              "    <tr>\n",
              "      <th>2</th>\n",
              "      <td>폴리스스토리 시리즈는 1부터 뉴까지 버릴께 하나도 없음.. 최고.</td>\n",
              "      <td>1</td>\n",
              "    </tr>\n",
              "    <tr>\n",
              "      <th>3</th>\n",
              "      <td>와.. 연기가 진짜 개쩔구나.. 지루할거라고 생각했는데 몰입해서 봤다.. 그래 이런...</td>\n",
              "      <td>1</td>\n",
              "    </tr>\n",
              "    <tr>\n",
              "      <th>4</th>\n",
              "      <td>안개 자욱한 밤하늘에 떠 있는 초승달 같은 영화.</td>\n",
              "      <td>1</td>\n",
              "    </tr>\n",
              "  </tbody>\n",
              "</table>\n",
              "</div>"
            ],
            "text/plain": [
              "                                             content label\n",
              "0                                어릴때보고 지금다시봐도 재밌어요ㅋㅋ     1\n",
              "1  디자인을 배우는 학생으로, 외국디자이너와 그들이 일군 전통을 통해 발전해가는 문화산...     1\n",
              "2               폴리스스토리 시리즈는 1부터 뉴까지 버릴께 하나도 없음.. 최고.     1\n",
              "3  와.. 연기가 진짜 개쩔구나.. 지루할거라고 생각했는데 몰입해서 봤다.. 그래 이런...     1\n",
              "4                        안개 자욱한 밤하늘에 떠 있는 초승달 같은 영화.     1"
            ]
          },
          "metadata": {
            "tags": []
          },
          "execution_count": 3
        }
      ]
    },
    {
      "cell_type": "code",
      "metadata": {
        "id": "Pu4poDe9x6gK",
        "colab_type": "code",
        "colab": {
          "base_uri": "https://localhost:8080/",
          "height": 419
        },
        "outputId": "475ed4d4-7edb-43cd-d800-ae9174f5e663"
      },
      "source": [
        "for i in tqdm(range(len(movie))):\n",
        "    if movie['label'][i] == '0':\n",
        "        movie['label'][i] = int(-1)\n",
        "    if movie['label'][i] == '1':\n",
        "        movie['label'][i] = int(1)\n",
        "movie"
      ],
      "execution_count": 4,
      "outputs": [
        {
          "output_type": "stream",
          "text": [
            "100%|██████████| 200000/200000 [02:54<00:00, 1146.79it/s]\n"
          ],
          "name": "stderr"
        },
        {
          "output_type": "execute_result",
          "data": {
            "text/html": [
              "<div>\n",
              "<style scoped>\n",
              "    .dataframe tbody tr th:only-of-type {\n",
              "        vertical-align: middle;\n",
              "    }\n",
              "\n",
              "    .dataframe tbody tr th {\n",
              "        vertical-align: top;\n",
              "    }\n",
              "\n",
              "    .dataframe thead th {\n",
              "        text-align: right;\n",
              "    }\n",
              "</style>\n",
              "<table border=\"1\" class=\"dataframe\">\n",
              "  <thead>\n",
              "    <tr style=\"text-align: right;\">\n",
              "      <th></th>\n",
              "      <th>content</th>\n",
              "      <th>label</th>\n",
              "    </tr>\n",
              "  </thead>\n",
              "  <tbody>\n",
              "    <tr>\n",
              "      <th>0</th>\n",
              "      <td>어릴때보고 지금다시봐도 재밌어요ㅋㅋ</td>\n",
              "      <td>1</td>\n",
              "    </tr>\n",
              "    <tr>\n",
              "      <th>1</th>\n",
              "      <td>디자인을 배우는 학생으로, 외국디자이너와 그들이 일군 전통을 통해 발전해가는 문화산...</td>\n",
              "      <td>1</td>\n",
              "    </tr>\n",
              "    <tr>\n",
              "      <th>2</th>\n",
              "      <td>폴리스스토리 시리즈는 1부터 뉴까지 버릴께 하나도 없음.. 최고.</td>\n",
              "      <td>1</td>\n",
              "    </tr>\n",
              "    <tr>\n",
              "      <th>3</th>\n",
              "      <td>와.. 연기가 진짜 개쩔구나.. 지루할거라고 생각했는데 몰입해서 봤다.. 그래 이런...</td>\n",
              "      <td>1</td>\n",
              "    </tr>\n",
              "    <tr>\n",
              "      <th>4</th>\n",
              "      <td>안개 자욱한 밤하늘에 떠 있는 초승달 같은 영화.</td>\n",
              "      <td>1</td>\n",
              "    </tr>\n",
              "    <tr>\n",
              "      <th>...</th>\n",
              "      <td>...</td>\n",
              "      <td>...</td>\n",
              "    </tr>\n",
              "    <tr>\n",
              "      <th>199995</th>\n",
              "      <td>포켓 몬스터 짜가 ㅡㅡ;;</td>\n",
              "      <td>-1</td>\n",
              "    </tr>\n",
              "    <tr>\n",
              "      <th>199996</th>\n",
              "      <td>쓰.레.기</td>\n",
              "      <td>-1</td>\n",
              "    </tr>\n",
              "    <tr>\n",
              "      <th>199997</th>\n",
              "      <td>완전 사이코영화. 마지막은 더욱더 이 영화의질을 떨어트린다.</td>\n",
              "      <td>-1</td>\n",
              "    </tr>\n",
              "    <tr>\n",
              "      <th>199998</th>\n",
              "      <td>왜난 재미없었지 ㅠㅠ 라따뚜이 보고나서 스머프 봐서 그런가 ㅋㅋ</td>\n",
              "      <td>-1</td>\n",
              "    </tr>\n",
              "    <tr>\n",
              "      <th>199999</th>\n",
              "      <td>포풍저그가나가신다영차영차영차</td>\n",
              "      <td>-1</td>\n",
              "    </tr>\n",
              "  </tbody>\n",
              "</table>\n",
              "<p>200000 rows × 2 columns</p>\n",
              "</div>"
            ],
            "text/plain": [
              "                                                  content label\n",
              "0                                     어릴때보고 지금다시봐도 재밌어요ㅋㅋ     1\n",
              "1       디자인을 배우는 학생으로, 외국디자이너와 그들이 일군 전통을 통해 발전해가는 문화산...     1\n",
              "2                    폴리스스토리 시리즈는 1부터 뉴까지 버릴께 하나도 없음.. 최고.     1\n",
              "3       와.. 연기가 진짜 개쩔구나.. 지루할거라고 생각했는데 몰입해서 봤다.. 그래 이런...     1\n",
              "4                             안개 자욱한 밤하늘에 떠 있는 초승달 같은 영화.     1\n",
              "...                                                   ...   ...\n",
              "199995                                     포켓 몬스터 짜가 ㅡㅡ;;    -1\n",
              "199996                                              쓰.레.기    -1\n",
              "199997                  완전 사이코영화. 마지막은 더욱더 이 영화의질을 떨어트린다.    -1\n",
              "199998                왜난 재미없었지 ㅠㅠ 라따뚜이 보고나서 스머프 봐서 그런가 ㅋㅋ    -1\n",
              "199999                                    포풍저그가나가신다영차영차영차    -1\n",
              "\n",
              "[200000 rows x 2 columns]"
            ]
          },
          "metadata": {
            "tags": []
          },
          "execution_count": 4
        }
      ]
    },
    {
      "cell_type": "code",
      "metadata": {
        "id": "tkb-ufyG1P4I",
        "colab_type": "code",
        "colab": {
          "base_uri": "https://localhost:8080/",
          "height": 34
        },
        "outputId": "f2957434-88e5-46d1-c361-e69f0dc276bd"
      },
      "source": [
        "len(movie[movie['label']==-1]), len(movie[movie['label']==1])"
      ],
      "execution_count": 5,
      "outputs": [
        {
          "output_type": "execute_result",
          "data": {
            "text/plain": [
              "(100000, 100000)"
            ]
          },
          "metadata": {
            "tags": []
          },
          "execution_count": 5
        }
      ]
    },
    {
      "cell_type": "code",
      "metadata": {
        "id": "NHtSSbDMyltN",
        "colab_type": "code",
        "colab": {
          "base_uri": "https://localhost:8080/",
          "height": 34
        },
        "outputId": "41ff126c-5e66-4c22-eeaf-accc40cc1c9f"
      },
      "source": [
        "len(movie)"
      ],
      "execution_count": 6,
      "outputs": [
        {
          "output_type": "execute_result",
          "data": {
            "text/plain": [
              "200000"
            ]
          },
          "metadata": {
            "tags": []
          },
          "execution_count": 6
        }
      ]
    },
    {
      "cell_type": "markdown",
      "metadata": {
        "id": "lAKWRIPXZaim",
        "colab_type": "text"
      },
      "source": [
        "# **네이버 스포츠**"
      ]
    },
    {
      "cell_type": "code",
      "metadata": {
        "id": "l6XRWhMpVWUE",
        "colab_type": "code",
        "colab": {
          "base_uri": "https://localhost:8080/",
          "height": 34
        },
        "outputId": "0ab860d0-63f6-4593-95c6-8bb8e5acc286"
      },
      "source": [
        "sports_reply1 = pd.read_csv('/content/drive/My Drive/머신러닝/팀 프로젝트/국어 경진대회/Data Set/Sports/naver_sportnews_reply_1.csv', encoding='utf-8')\n",
        "len(sports_reply1)"
      ],
      "execution_count": 4,
      "outputs": [
        {
          "output_type": "execute_result",
          "data": {
            "text/plain": [
              "2119"
            ]
          },
          "metadata": {
            "tags": []
          },
          "execution_count": 4
        }
      ]
    },
    {
      "cell_type": "code",
      "metadata": {
        "id": "iWwsQ309aIFN",
        "colab_type": "code",
        "colab": {
          "base_uri": "https://localhost:8080/",
          "height": 34
        },
        "outputId": "7e09a4eb-5691-4e57-d784-2810c744ca71"
      },
      "source": [
        "sports_content1 = sports_reply1[sports_reply1['like']  >= 3]\n",
        "sports_content1 = sports_content1[sports_content1['dislike']  >= 3]\n",
        "sports_content1 = sports_content1.reset_index()\n",
        "len(sports_content1)"
      ],
      "execution_count": 5,
      "outputs": [
        {
          "output_type": "execute_result",
          "data": {
            "text/plain": [
              "229"
            ]
          },
          "metadata": {
            "tags": []
          },
          "execution_count": 5
        }
      ]
    },
    {
      "cell_type": "code",
      "metadata": {
        "id": "hBeA6qgvb2y9",
        "colab_type": "code",
        "colab": {
          "base_uri": "https://localhost:8080/",
          "height": 34
        },
        "outputId": "81f31090-0ae8-4505-fa86-b7373c6660c8"
      },
      "source": [
        "sports_reply2 = pd.read_csv('/content/drive/My Drive/머신러닝/팀 프로젝트/국어 경진대회/Data Set/Sports/naver_sportnews_reply_2.csv', encoding='utf-8')\n",
        "len(sports_reply2)"
      ],
      "execution_count": 6,
      "outputs": [
        {
          "output_type": "execute_result",
          "data": {
            "text/plain": [
              "1782"
            ]
          },
          "metadata": {
            "tags": []
          },
          "execution_count": 6
        }
      ]
    },
    {
      "cell_type": "code",
      "metadata": {
        "id": "09ezk0jFdQV8",
        "colab_type": "code",
        "colab": {
          "base_uri": "https://localhost:8080/",
          "height": 34
        },
        "outputId": "6795bbc8-810d-496b-e8ff-3b4eedb18fbd"
      },
      "source": [
        "a = pd.concat([sports_reply1, sports_reply2], axis=0)\n",
        "a = a.reset_index()\n",
        "a = a.rename({'contents':'content'}, axis='columns')\n",
        "sports_content = a[['content', 'like', 'dislike']]\n",
        "len(sports_content)"
      ],
      "execution_count": 7,
      "outputs": [
        {
          "output_type": "execute_result",
          "data": {
            "text/plain": [
              "3901"
            ]
          },
          "metadata": {
            "tags": []
          },
          "execution_count": 7
        }
      ]
    },
    {
      "cell_type": "code",
      "metadata": {
        "id": "JJlDZDD5d6gn",
        "colab_type": "code",
        "colab": {
          "base_uri": "https://localhost:8080/",
          "height": 723
        },
        "outputId": "3813a634-3c47-4cc0-8f7e-02b43c118744"
      },
      "source": [
        "sports_content['label'] = 0\n",
        "for i in range(len(sports_content)):\n",
        "    if sports_content['like'][i] / (sports_content['like'][i] + sports_content['dislike'][i]) >= 0.8:\n",
        "        sports_content['label'][i] = int(1)\n",
        "    elif sports_content['like'][i] / (sports_content['like'][i] + sports_content['dislike'][i]) <= 0.2:\n",
        "        sports_content['label'][i] = int(-1)\n",
        "    else:\n",
        "        sports_content['label'][i] = int(0)\n",
        "\n",
        "sports_content.head()"
      ],
      "execution_count": 8,
      "outputs": [
        {
          "output_type": "stream",
          "text": [
            "/usr/local/lib/python3.6/dist-packages/ipykernel_launcher.py:1: SettingWithCopyWarning: \n",
            "A value is trying to be set on a copy of a slice from a DataFrame.\n",
            "Try using .loc[row_indexer,col_indexer] = value instead\n",
            "\n",
            "See the caveats in the documentation: https://pandas.pydata.org/pandas-docs/stable/user_guide/indexing.html#returning-a-view-versus-a-copy\n",
            "  \"\"\"Entry point for launching an IPython kernel.\n",
            "/usr/local/lib/python3.6/dist-packages/ipykernel_launcher.py:4: SettingWithCopyWarning: \n",
            "A value is trying to be set on a copy of a slice from a DataFrame\n",
            "\n",
            "See the caveats in the documentation: https://pandas.pydata.org/pandas-docs/stable/user_guide/indexing.html#returning-a-view-versus-a-copy\n",
            "  after removing the cwd from sys.path.\n",
            "/usr/local/lib/python3.6/dist-packages/IPython/core/interactiveshell.py:2882: SettingWithCopyWarning: \n",
            "A value is trying to be set on a copy of a slice from a DataFrame\n",
            "\n",
            "See the caveats in the documentation: https://pandas.pydata.org/pandas-docs/stable/user_guide/indexing.html#returning-a-view-versus-a-copy\n",
            "  exec(code_obj, self.user_global_ns, self.user_ns)\n",
            "/usr/local/lib/python3.6/dist-packages/ipykernel_launcher.py:6: SettingWithCopyWarning: \n",
            "A value is trying to be set on a copy of a slice from a DataFrame\n",
            "\n",
            "See the caveats in the documentation: https://pandas.pydata.org/pandas-docs/stable/user_guide/indexing.html#returning-a-view-versus-a-copy\n",
            "  \n",
            "/usr/local/lib/python3.6/dist-packages/ipykernel_launcher.py:8: SettingWithCopyWarning: \n",
            "A value is trying to be set on a copy of a slice from a DataFrame\n",
            "\n",
            "See the caveats in the documentation: https://pandas.pydata.org/pandas-docs/stable/user_guide/indexing.html#returning-a-view-versus-a-copy\n",
            "  \n",
            "/usr/local/lib/python3.6/dist-packages/ipykernel_launcher.py:3: RuntimeWarning: invalid value encountered in long_scalars\n",
            "  This is separate from the ipykernel package so we can avoid doing imports until\n",
            "/usr/local/lib/python3.6/dist-packages/ipykernel_launcher.py:5: RuntimeWarning: invalid value encountered in long_scalars\n",
            "  \"\"\"\n"
          ],
          "name": "stderr"
        },
        {
          "output_type": "execute_result",
          "data": {
            "text/html": [
              "<div>\n",
              "<style scoped>\n",
              "    .dataframe tbody tr th:only-of-type {\n",
              "        vertical-align: middle;\n",
              "    }\n",
              "\n",
              "    .dataframe tbody tr th {\n",
              "        vertical-align: top;\n",
              "    }\n",
              "\n",
              "    .dataframe thead th {\n",
              "        text-align: right;\n",
              "    }\n",
              "</style>\n",
              "<table border=\"1\" class=\"dataframe\">\n",
              "  <thead>\n",
              "    <tr style=\"text-align: right;\">\n",
              "      <th></th>\n",
              "      <th>content</th>\n",
              "      <th>like</th>\n",
              "      <th>dislike</th>\n",
              "      <th>label</th>\n",
              "    </tr>\n",
              "  </thead>\n",
              "  <tbody>\n",
              "    <tr>\n",
              "      <th>0</th>\n",
              "      <td>\"수비 잘하면 선발 기회 많아지고 많아지다보면 타격경험 쌓여 타격도 자연스레 늘게 ...</td>\n",
              "      <td>1</td>\n",
              "      <td>0</td>\n",
              "      <td>1</td>\n",
              "    </tr>\n",
              "    <tr>\n",
              "      <th>1</th>\n",
              "      <td>\"찬호야 넌 대단하고 잘하구나 기아에 없었다면 안되겠다\"</td>\n",
              "      <td>3</td>\n",
              "      <td>0</td>\n",
              "      <td>1</td>\n",
              "    </tr>\n",
              "    <tr>\n",
              "      <th>2</th>\n",
              "      <td>\"박찬호 수비 보러 오라고 해서 왔는데....\\n\\n이게 호수비냐? ㅋㅋㅋㅋㅋㅋㅋㅋ...</td>\n",
              "      <td>0</td>\n",
              "      <td>11</td>\n",
              "      <td>-1</td>\n",
              "    </tr>\n",
              "    <tr>\n",
              "      <th>3</th>\n",
              "      <td>\"찬호야 ~~수비는 kbo  원탑이다*^^* 아쉬운건  스윙할때   부담 갖지말고 ...</td>\n",
              "      <td>1</td>\n",
              "      <td>1</td>\n",
              "      <td>0</td>\n",
              "    </tr>\n",
              "    <tr>\n",
              "      <th>4</th>\n",
              "      <td>\"복덩이 박찬호! 어디갓다 인제 온거야.. 내년이 더 기대되는 멋진 찬호다!\"</td>\n",
              "      <td>8</td>\n",
              "      <td>0</td>\n",
              "      <td>1</td>\n",
              "    </tr>\n",
              "  </tbody>\n",
              "</table>\n",
              "</div>"
            ],
            "text/plain": [
              "                                             content  like  dislike  label\n",
              "0  \"수비 잘하면 선발 기회 많아지고 많아지다보면 타격경험 쌓여 타격도 자연스레 늘게 ...     1        0      1\n",
              "1                    \"찬호야 넌 대단하고 잘하구나 기아에 없었다면 안되겠다\"     3        0      1\n",
              "2  \"박찬호 수비 보러 오라고 해서 왔는데....\\n\\n이게 호수비냐? ㅋㅋㅋㅋㅋㅋㅋㅋ...     0       11     -1\n",
              "3  \"찬호야 ~~수비는 kbo  원탑이다*^^* 아쉬운건  스윙할때   부담 갖지말고 ...     1        1      0\n",
              "4        \"복덩이 박찬호! 어디갓다 인제 온거야.. 내년이 더 기대되는 멋진 찬호다!\"     8        0      1"
            ]
          },
          "metadata": {
            "tags": []
          },
          "execution_count": 8
        }
      ]
    },
    {
      "cell_type": "code",
      "metadata": {
        "id": "OpUuZNObgCN6",
        "colab_type": "code",
        "colab": {
          "base_uri": "https://localhost:8080/",
          "height": 195
        },
        "outputId": "29b72d00-4a64-4573-c481-e34a74a18f91"
      },
      "source": [
        "sports = sports_content[['content', 'label']]\n",
        "sports.head()"
      ],
      "execution_count": 9,
      "outputs": [
        {
          "output_type": "execute_result",
          "data": {
            "text/html": [
              "<div>\n",
              "<style scoped>\n",
              "    .dataframe tbody tr th:only-of-type {\n",
              "        vertical-align: middle;\n",
              "    }\n",
              "\n",
              "    .dataframe tbody tr th {\n",
              "        vertical-align: top;\n",
              "    }\n",
              "\n",
              "    .dataframe thead th {\n",
              "        text-align: right;\n",
              "    }\n",
              "</style>\n",
              "<table border=\"1\" class=\"dataframe\">\n",
              "  <thead>\n",
              "    <tr style=\"text-align: right;\">\n",
              "      <th></th>\n",
              "      <th>content</th>\n",
              "      <th>label</th>\n",
              "    </tr>\n",
              "  </thead>\n",
              "  <tbody>\n",
              "    <tr>\n",
              "      <th>0</th>\n",
              "      <td>\"수비 잘하면 선발 기회 많아지고 많아지다보면 타격경험 쌓여 타격도 자연스레 늘게 ...</td>\n",
              "      <td>1</td>\n",
              "    </tr>\n",
              "    <tr>\n",
              "      <th>1</th>\n",
              "      <td>\"찬호야 넌 대단하고 잘하구나 기아에 없었다면 안되겠다\"</td>\n",
              "      <td>1</td>\n",
              "    </tr>\n",
              "    <tr>\n",
              "      <th>2</th>\n",
              "      <td>\"박찬호 수비 보러 오라고 해서 왔는데....\\n\\n이게 호수비냐? ㅋㅋㅋㅋㅋㅋㅋㅋ...</td>\n",
              "      <td>-1</td>\n",
              "    </tr>\n",
              "    <tr>\n",
              "      <th>3</th>\n",
              "      <td>\"찬호야 ~~수비는 kbo  원탑이다*^^* 아쉬운건  스윙할때   부담 갖지말고 ...</td>\n",
              "      <td>0</td>\n",
              "    </tr>\n",
              "    <tr>\n",
              "      <th>4</th>\n",
              "      <td>\"복덩이 박찬호! 어디갓다 인제 온거야.. 내년이 더 기대되는 멋진 찬호다!\"</td>\n",
              "      <td>1</td>\n",
              "    </tr>\n",
              "  </tbody>\n",
              "</table>\n",
              "</div>"
            ],
            "text/plain": [
              "                                             content  label\n",
              "0  \"수비 잘하면 선발 기회 많아지고 많아지다보면 타격경험 쌓여 타격도 자연스레 늘게 ...      1\n",
              "1                    \"찬호야 넌 대단하고 잘하구나 기아에 없었다면 안되겠다\"      1\n",
              "2  \"박찬호 수비 보러 오라고 해서 왔는데....\\n\\n이게 호수비냐? ㅋㅋㅋㅋㅋㅋㅋㅋ...     -1\n",
              "3  \"찬호야 ~~수비는 kbo  원탑이다*^^* 아쉬운건  스윙할때   부담 갖지말고 ...      0\n",
              "4        \"복덩이 박찬호! 어디갓다 인제 온거야.. 내년이 더 기대되는 멋진 찬호다!\"      1"
            ]
          },
          "metadata": {
            "tags": []
          },
          "execution_count": 9
        }
      ]
    },
    {
      "cell_type": "markdown",
      "metadata": {
        "id": "VhAYv2E-hQ7e",
        "colab_type": "text"
      },
      "source": [
        "# **예능 프로그램**"
      ]
    },
    {
      "cell_type": "code",
      "metadata": {
        "id": "zl_dFxyAhIz4",
        "colab_type": "code",
        "colab": {}
      },
      "source": [
        "entertain1 = pd.read_csv('/content/drive/My Drive/머신러닝/팀 프로젝트/국어 경진대회/Data Set/Entertainment/1ngith2day.csv', encoding='utf-8')\n",
        "entertain2 = pd.read_csv('/content/drive/My Drive/머신러닝/팀 프로젝트/국어 경진대회/Data Set/Entertainment/knownbrothers.csv', encoding='utf-8')\n",
        "entertain3 = pd.read_csv('/content/drive/My Drive/머신러닝/팀 프로젝트/국어 경진대회/Data Set/Entertainment/naverTV_talk_tvnstranger_1_2000.csv', encoding='utf-8')\n",
        "entertain4 = pd.read_csv('/content/drive/My Drive/머신러닝/팀 프로젝트/국어 경진대회/Data Set/Entertainment/singlelife_labeling.csv', encoding='utf-8')\n",
        "entertain5 = pd.read_csv('/content/drive/My Drive/머신러닝/팀 프로젝트/국어 경진대회/Data Set/Entertainment/street.csv', encoding='utf-8')\n",
        "entertain6 = pd.read_csv('/content/drive/My Drive/머신러닝/팀 프로젝트/국어 경진대회/Data Set/Entertainment/ugly ducks.csv', encoding='utf-8')\n",
        "entertain7 = pd.read_csv('/content/drive/My Drive/머신러닝/팀 프로젝트/국어 경진대회/Data Set/Entertainment/whyplay.csv', encoding='utf-8')"
      ],
      "execution_count": 10,
      "outputs": []
    },
    {
      "cell_type": "code",
      "metadata": {
        "id": "0QY8foYkhsky",
        "colab_type": "code",
        "colab": {
          "base_uri": "https://localhost:8080/",
          "height": 34
        },
        "outputId": "35d1ac95-0fa6-4d72-e99e-77eb3f5ebc53"
      },
      "source": [
        "a = pd.concat([entertain1, entertain2, entertain3, entertain4, entertain5, entertain6, entertain7], axis=0)\n",
        "a = a.reset_index()\n",
        "ent_content = a[['0', '1', '2']]\n",
        "len(ent_content)"
      ],
      "execution_count": 11,
      "outputs": [
        {
          "output_type": "execute_result",
          "data": {
            "text/plain": [
              "107984"
            ]
          },
          "metadata": {
            "tags": []
          },
          "execution_count": 11
        }
      ]
    },
    {
      "cell_type": "code",
      "metadata": {
        "id": "J_fdox6akY0o",
        "colab_type": "code",
        "colab": {
          "base_uri": "https://localhost:8080/",
          "height": 195
        },
        "outputId": "2ab0a9e2-ffc9-43e9-cb47-a120d15f9eac"
      },
      "source": [
        "ent_content = ent_content[ent_content['1'].isnull()==False]\n",
        "ent_content = ent_content.rename({'0':'content', '1':'label'}, axis='columns')\n",
        "ent_content = ent_content.reset_index()\n",
        "entertainment = ent_content[['content', 'label']]\n",
        "entertainment = entertainment.dropna()\n",
        "entertainment = entertainment.reset_index()\n",
        "entertainment = entertainment.drop(['index'], axis=1)\n",
        "entertainment.head()"
      ],
      "execution_count": 12,
      "outputs": [
        {
          "output_type": "execute_result",
          "data": {
            "text/html": [
              "<div>\n",
              "<style scoped>\n",
              "    .dataframe tbody tr th:only-of-type {\n",
              "        vertical-align: middle;\n",
              "    }\n",
              "\n",
              "    .dataframe tbody tr th {\n",
              "        vertical-align: top;\n",
              "    }\n",
              "\n",
              "    .dataframe thead th {\n",
              "        text-align: right;\n",
              "    }\n",
              "</style>\n",
              "<table border=\"1\" class=\"dataframe\">\n",
              "  <thead>\n",
              "    <tr style=\"text-align: right;\">\n",
              "      <th></th>\n",
              "      <th>content</th>\n",
              "      <th>label</th>\n",
              "    </tr>\n",
              "  </thead>\n",
              "  <tbody>\n",
              "    <tr>\n",
              "      <th>0</th>\n",
              "      <td>\"오늘 글수 19개 입니다.ㅋㅋㅋㅋㅋㅋㅋㅋㅋㅋㅋㅋㅋㅋㅋㅋㅋㅋㅋㅋㅋㅋㅋㅋㅋㅋㅋㅋㅋㅋㅋ...</td>\n",
              "      <td>1</td>\n",
              "    </tr>\n",
              "    <tr>\n",
              "      <th>1</th>\n",
              "      <td>\"일요일 또 언제 기다리지\"</td>\n",
              "      <td>1</td>\n",
              "    </tr>\n",
              "    <tr>\n",
              "      <th>2</th>\n",
              "      <td>\"너무 재미있게 보고 있어요 예능 안 보는 편인데 하나 봤다가 정주행 중이에요 ㅠㅠ\"</td>\n",
              "      <td>1</td>\n",
              "    </tr>\n",
              "    <tr>\n",
              "      <th>3</th>\n",
              "      <td>\"쌓아뒀다 한꺼번에 털어주자 악플러시키\"</td>\n",
              "      <td>-1</td>\n",
              "    </tr>\n",
              "    <tr>\n",
              "      <th>4</th>\n",
              "      <td>\"6분 멤버의 눈물   그 중에 아이 키우는 연정훈  문세윤 두분의 눈물...  모...</td>\n",
              "      <td>0</td>\n",
              "    </tr>\n",
              "  </tbody>\n",
              "</table>\n",
              "</div>"
            ],
            "text/plain": [
              "                                             content label\n",
              "0  \"오늘 글수 19개 입니다.ㅋㅋㅋㅋㅋㅋㅋㅋㅋㅋㅋㅋㅋㅋㅋㅋㅋㅋㅋㅋㅋㅋㅋㅋㅋㅋㅋㅋㅋㅋㅋ...     1\n",
              "1                                    \"일요일 또 언제 기다리지\"     1\n",
              "2    \"너무 재미있게 보고 있어요 예능 안 보는 편인데 하나 봤다가 정주행 중이에요 ㅠㅠ\"     1\n",
              "3                             \"쌓아뒀다 한꺼번에 털어주자 악플러시키\"    -1\n",
              "4  \"6분 멤버의 눈물   그 중에 아이 키우는 연정훈  문세윤 두분의 눈물...  모...     0"
            ]
          },
          "metadata": {
            "tags": []
          },
          "execution_count": 12
        }
      ]
    },
    {
      "cell_type": "code",
      "metadata": {
        "id": "kObaliamDQEf",
        "colab_type": "code",
        "colab": {
          "base_uri": "https://localhost:8080/",
          "height": 213
        },
        "outputId": "f1c811d5-0c59-42e2-f225-e480bc626984"
      },
      "source": [
        "for i in tqdm(range(len(entertainment))):\n",
        "    if entertainment['label'][i] == 'q':\n",
        "        entertainment['label'][i] = int(1)\n",
        "    elif type(entertainment['label'][i]) != 'int':\n",
        "        entertainment['label'][i] = int(entertainment['label'][i])\n",
        "    else:\n",
        "        pass\n",
        "entertainment.head()"
      ],
      "execution_count": 13,
      "outputs": [
        {
          "output_type": "stream",
          "text": [
            "100%|██████████| 34909/34909 [00:06<00:00, 5670.43it/s]\n"
          ],
          "name": "stderr"
        },
        {
          "output_type": "execute_result",
          "data": {
            "text/html": [
              "<div>\n",
              "<style scoped>\n",
              "    .dataframe tbody tr th:only-of-type {\n",
              "        vertical-align: middle;\n",
              "    }\n",
              "\n",
              "    .dataframe tbody tr th {\n",
              "        vertical-align: top;\n",
              "    }\n",
              "\n",
              "    .dataframe thead th {\n",
              "        text-align: right;\n",
              "    }\n",
              "</style>\n",
              "<table border=\"1\" class=\"dataframe\">\n",
              "  <thead>\n",
              "    <tr style=\"text-align: right;\">\n",
              "      <th></th>\n",
              "      <th>content</th>\n",
              "      <th>label</th>\n",
              "    </tr>\n",
              "  </thead>\n",
              "  <tbody>\n",
              "    <tr>\n",
              "      <th>0</th>\n",
              "      <td>\"오늘 글수 19개 입니다.ㅋㅋㅋㅋㅋㅋㅋㅋㅋㅋㅋㅋㅋㅋㅋㅋㅋㅋㅋㅋㅋㅋㅋㅋㅋㅋㅋㅋㅋㅋㅋ...</td>\n",
              "      <td>1</td>\n",
              "    </tr>\n",
              "    <tr>\n",
              "      <th>1</th>\n",
              "      <td>\"일요일 또 언제 기다리지\"</td>\n",
              "      <td>1</td>\n",
              "    </tr>\n",
              "    <tr>\n",
              "      <th>2</th>\n",
              "      <td>\"너무 재미있게 보고 있어요 예능 안 보는 편인데 하나 봤다가 정주행 중이에요 ㅠㅠ\"</td>\n",
              "      <td>1</td>\n",
              "    </tr>\n",
              "    <tr>\n",
              "      <th>3</th>\n",
              "      <td>\"쌓아뒀다 한꺼번에 털어주자 악플러시키\"</td>\n",
              "      <td>-1</td>\n",
              "    </tr>\n",
              "    <tr>\n",
              "      <th>4</th>\n",
              "      <td>\"6분 멤버의 눈물   그 중에 아이 키우는 연정훈  문세윤 두분의 눈물...  모...</td>\n",
              "      <td>0</td>\n",
              "    </tr>\n",
              "  </tbody>\n",
              "</table>\n",
              "</div>"
            ],
            "text/plain": [
              "                                             content label\n",
              "0  \"오늘 글수 19개 입니다.ㅋㅋㅋㅋㅋㅋㅋㅋㅋㅋㅋㅋㅋㅋㅋㅋㅋㅋㅋㅋㅋㅋㅋㅋㅋㅋㅋㅋㅋㅋㅋ...     1\n",
              "1                                    \"일요일 또 언제 기다리지\"     1\n",
              "2    \"너무 재미있게 보고 있어요 예능 안 보는 편인데 하나 봤다가 정주행 중이에요 ㅠㅠ\"     1\n",
              "3                             \"쌓아뒀다 한꺼번에 털어주자 악플러시키\"    -1\n",
              "4  \"6분 멤버의 눈물   그 중에 아이 키우는 연정훈  문세윤 두분의 눈물...  모...     0"
            ]
          },
          "metadata": {
            "tags": []
          },
          "execution_count": 13
        }
      ]
    },
    {
      "cell_type": "markdown",
      "metadata": {
        "id": "4bvoybYqn5uA",
        "colab_type": "text"
      },
      "source": [
        "# **드라마**"
      ]
    },
    {
      "cell_type": "code",
      "metadata": {
        "id": "-IWAC6YznVlx",
        "colab_type": "code",
        "colab": {}
      },
      "source": [
        "drama1 = pd.read_csv('/content/drive/My Drive/머신러닝/팀 프로젝트/국어 경진대회/Data Set/Drama/itaewonclass.csv', encoding='utf-8')\n",
        "drama2 = pd.read_csv('/content/drive/My Drive/머신러닝/팀 프로젝트/국어 경진대회/Data Set/Drama/psychookay.csv', encoding='utf-8')\n",
        "drama3 = pd.read_csv('/content/drive/My Drive/머신러닝/팀 프로젝트/국어 경진대회/Data Set/Drama/smartdoctorlice.csv', encoding='utf-8')"
      ],
      "execution_count": 14,
      "outputs": []
    },
    {
      "cell_type": "code",
      "metadata": {
        "id": "L_7dQrVooLnt",
        "colab_type": "code",
        "colab": {
          "base_uri": "https://localhost:8080/",
          "height": 34
        },
        "outputId": "7dbb2d65-0130-4641-8def-e9be31c2178c"
      },
      "source": [
        "a = pd.concat([drama1, drama2, drama3], axis=0)\n",
        "a = a.reset_index()\n",
        "drama_content = a[['0', '1', '2']]\n",
        "len(drama_content)"
      ],
      "execution_count": 15,
      "outputs": [
        {
          "output_type": "execute_result",
          "data": {
            "text/plain": [
              "15004"
            ]
          },
          "metadata": {
            "tags": []
          },
          "execution_count": 15
        }
      ]
    },
    {
      "cell_type": "code",
      "metadata": {
        "id": "MQz1K6dNoU3M",
        "colab_type": "code",
        "colab": {
          "base_uri": "https://localhost:8080/",
          "height": 195
        },
        "outputId": "1558d03f-4562-4b25-94a9-f012ea258fe8"
      },
      "source": [
        "drama_content = drama_content[drama_content['1'].isnull()==False]\n",
        "drama_content = drama_content.rename({'0':'content', '1':'label'}, axis='columns')\n",
        "drama_content = drama_content.reset_index()\n",
        "drama = drama_content[['content', 'label']]\n",
        "drama_content = drama_content.reset_index()\n",
        "drama_content = drama_content.drop(['index'], axis=1)\n",
        "drama.head()"
      ],
      "execution_count": 16,
      "outputs": [
        {
          "output_type": "execute_result",
          "data": {
            "text/html": [
              "<div>\n",
              "<style scoped>\n",
              "    .dataframe tbody tr th:only-of-type {\n",
              "        vertical-align: middle;\n",
              "    }\n",
              "\n",
              "    .dataframe tbody tr th {\n",
              "        vertical-align: top;\n",
              "    }\n",
              "\n",
              "    .dataframe thead th {\n",
              "        text-align: right;\n",
              "    }\n",
              "</style>\n",
              "<table border=\"1\" class=\"dataframe\">\n",
              "  <thead>\n",
              "    <tr style=\"text-align: right;\">\n",
              "      <th></th>\n",
              "      <th>content</th>\n",
              "      <th>label</th>\n",
              "    </tr>\n",
              "  </thead>\n",
              "  <tbody>\n",
              "    <tr>\n",
              "      <th>0</th>\n",
              "      <td>\"이클오스트 갠적으로 그때그아인 조은데 사실 모든노래가찐\"</td>\n",
              "      <td>1.0</td>\n",
              "    </tr>\n",
              "    <tr>\n",
              "      <th>1</th>\n",
              "      <td>\"요즘 계속 이클ost듣고 명장면 돌려보다보니 정주행 하고싶어지네요\"</td>\n",
              "      <td>1.0</td>\n",
              "    </tr>\n",
              "    <tr>\n",
              "      <th>2</th>\n",
              "      <td>\"출첵! 이번주도 건강하게 무탈하게.ㅎㅇㅌ\"</td>\n",
              "      <td>1.0</td>\n",
              "    </tr>\n",
              "    <tr>\n",
              "      <th>3</th>\n",
              "      <td>\"진짜 마지막 식상한 납치씬만 없었으면 더 좋았을건데\"</td>\n",
              "      <td>1.0</td>\n",
              "    </tr>\n",
              "    <tr>\n",
              "      <th>4</th>\n",
              "      <td>\"ILL 이서로이럽\"</td>\n",
              "      <td>1.0</td>\n",
              "    </tr>\n",
              "  </tbody>\n",
              "</table>\n",
              "</div>"
            ],
            "text/plain": [
              "                                  content  label\n",
              "0        \"이클오스트 갠적으로 그때그아인 조은데 사실 모든노래가찐\"    1.0\n",
              "1  \"요즘 계속 이클ost듣고 명장면 돌려보다보니 정주행 하고싶어지네요\"    1.0\n",
              "2                \"출첵! 이번주도 건강하게 무탈하게.ㅎㅇㅌ\"    1.0\n",
              "3          \"진짜 마지막 식상한 납치씬만 없었으면 더 좋았을건데\"    1.0\n",
              "4                             \"ILL 이서로이럽\"    1.0"
            ]
          },
          "metadata": {
            "tags": []
          },
          "execution_count": 16
        }
      ]
    },
    {
      "cell_type": "code",
      "metadata": {
        "id": "gmR2xDL-HYtZ",
        "colab_type": "code",
        "colab": {
          "base_uri": "https://localhost:8080/",
          "height": 34
        },
        "outputId": "bbe0d4dc-1fc1-496d-d891-88ed6763d925"
      },
      "source": [
        "type(drama['label'][0])"
      ],
      "execution_count": 17,
      "outputs": [
        {
          "output_type": "execute_result",
          "data": {
            "text/plain": [
              "numpy.float64"
            ]
          },
          "metadata": {
            "tags": []
          },
          "execution_count": 17
        }
      ]
    },
    {
      "cell_type": "code",
      "metadata": {
        "id": "u__6U7gIH6r7",
        "colab_type": "code",
        "colab": {
          "base_uri": "https://localhost:8080/",
          "height": 34
        },
        "outputId": "5a2f95a7-a0fe-4f85-c8df-491806eaaca2"
      },
      "source": [
        "b = []\n",
        "for i in drama['label'].to_list():\n",
        "    b.append(int(i))\n",
        "\n",
        "b[:5]"
      ],
      "execution_count": 18,
      "outputs": [
        {
          "output_type": "execute_result",
          "data": {
            "text/plain": [
              "[1, 1, 1, 1, 1]"
            ]
          },
          "metadata": {
            "tags": []
          },
          "execution_count": 18
        }
      ]
    },
    {
      "cell_type": "code",
      "metadata": {
        "id": "v8M8rx7DHKVj",
        "colab_type": "code",
        "colab": {
          "base_uri": "https://localhost:8080/",
          "height": 301
        },
        "outputId": "1c630ebc-2902-4516-8b8f-f8026b7e784a"
      },
      "source": [
        " drama['new_label'] = 0\n",
        " \n",
        " for i in tqdm(range(len(drama))):\n",
        "    if b[i] == 'q':\n",
        "        drama['new_label'][i] = int(1)\n",
        "    else:\n",
        "        drama['new_label'][i] = int(b[i])\n",
        "new_drama = drama[['content', 'new_label']]\n",
        "new_drama.head()"
      ],
      "execution_count": 19,
      "outputs": [
        {
          "output_type": "stream",
          "text": [
            "  0%|          | 0/13057 [00:00<?, ?it/s]/usr/local/lib/python3.6/dist-packages/ipykernel_launcher.py:7: SettingWithCopyWarning: \n",
            "A value is trying to be set on a copy of a slice from a DataFrame\n",
            "\n",
            "See the caveats in the documentation: https://pandas.pydata.org/pandas-docs/stable/user_guide/indexing.html#returning-a-view-versus-a-copy\n",
            "  import sys\n",
            "100%|██████████| 13057/13057 [00:00<00:00, 17336.17it/s]\n"
          ],
          "name": "stderr"
        },
        {
          "output_type": "execute_result",
          "data": {
            "text/html": [
              "<div>\n",
              "<style scoped>\n",
              "    .dataframe tbody tr th:only-of-type {\n",
              "        vertical-align: middle;\n",
              "    }\n",
              "\n",
              "    .dataframe tbody tr th {\n",
              "        vertical-align: top;\n",
              "    }\n",
              "\n",
              "    .dataframe thead th {\n",
              "        text-align: right;\n",
              "    }\n",
              "</style>\n",
              "<table border=\"1\" class=\"dataframe\">\n",
              "  <thead>\n",
              "    <tr style=\"text-align: right;\">\n",
              "      <th></th>\n",
              "      <th>content</th>\n",
              "      <th>new_label</th>\n",
              "    </tr>\n",
              "  </thead>\n",
              "  <tbody>\n",
              "    <tr>\n",
              "      <th>0</th>\n",
              "      <td>\"이클오스트 갠적으로 그때그아인 조은데 사실 모든노래가찐\"</td>\n",
              "      <td>1</td>\n",
              "    </tr>\n",
              "    <tr>\n",
              "      <th>1</th>\n",
              "      <td>\"요즘 계속 이클ost듣고 명장면 돌려보다보니 정주행 하고싶어지네요\"</td>\n",
              "      <td>1</td>\n",
              "    </tr>\n",
              "    <tr>\n",
              "      <th>2</th>\n",
              "      <td>\"출첵! 이번주도 건강하게 무탈하게.ㅎㅇㅌ\"</td>\n",
              "      <td>1</td>\n",
              "    </tr>\n",
              "    <tr>\n",
              "      <th>3</th>\n",
              "      <td>\"진짜 마지막 식상한 납치씬만 없었으면 더 좋았을건데\"</td>\n",
              "      <td>1</td>\n",
              "    </tr>\n",
              "    <tr>\n",
              "      <th>4</th>\n",
              "      <td>\"ILL 이서로이럽\"</td>\n",
              "      <td>1</td>\n",
              "    </tr>\n",
              "  </tbody>\n",
              "</table>\n",
              "</div>"
            ],
            "text/plain": [
              "                                  content  new_label\n",
              "0        \"이클오스트 갠적으로 그때그아인 조은데 사실 모든노래가찐\"          1\n",
              "1  \"요즘 계속 이클ost듣고 명장면 돌려보다보니 정주행 하고싶어지네요\"          1\n",
              "2                \"출첵! 이번주도 건강하게 무탈하게.ㅎㅇㅌ\"          1\n",
              "3          \"진짜 마지막 식상한 납치씬만 없었으면 더 좋았을건데\"          1\n",
              "4                             \"ILL 이서로이럽\"          1"
            ]
          },
          "metadata": {
            "tags": []
          },
          "execution_count": 19
        }
      ]
    },
    {
      "cell_type": "code",
      "metadata": {
        "id": "XJ-u4LN7KC3V",
        "colab_type": "code",
        "colab": {
          "base_uri": "https://localhost:8080/",
          "height": 195
        },
        "outputId": "c10f6fbf-b896-45f5-9932-8c16c5aaa5e2"
      },
      "source": [
        "new_drama = new_drama.rename({'new_label':'label'}, axis='columns')\n",
        "new_drama = new_drama.reset_index()\n",
        "drama = new_drama.drop(['index'], axis=1)\n",
        "drama.head()"
      ],
      "execution_count": 20,
      "outputs": [
        {
          "output_type": "execute_result",
          "data": {
            "text/html": [
              "<div>\n",
              "<style scoped>\n",
              "    .dataframe tbody tr th:only-of-type {\n",
              "        vertical-align: middle;\n",
              "    }\n",
              "\n",
              "    .dataframe tbody tr th {\n",
              "        vertical-align: top;\n",
              "    }\n",
              "\n",
              "    .dataframe thead th {\n",
              "        text-align: right;\n",
              "    }\n",
              "</style>\n",
              "<table border=\"1\" class=\"dataframe\">\n",
              "  <thead>\n",
              "    <tr style=\"text-align: right;\">\n",
              "      <th></th>\n",
              "      <th>content</th>\n",
              "      <th>label</th>\n",
              "    </tr>\n",
              "  </thead>\n",
              "  <tbody>\n",
              "    <tr>\n",
              "      <th>0</th>\n",
              "      <td>\"이클오스트 갠적으로 그때그아인 조은데 사실 모든노래가찐\"</td>\n",
              "      <td>1</td>\n",
              "    </tr>\n",
              "    <tr>\n",
              "      <th>1</th>\n",
              "      <td>\"요즘 계속 이클ost듣고 명장면 돌려보다보니 정주행 하고싶어지네요\"</td>\n",
              "      <td>1</td>\n",
              "    </tr>\n",
              "    <tr>\n",
              "      <th>2</th>\n",
              "      <td>\"출첵! 이번주도 건강하게 무탈하게.ㅎㅇㅌ\"</td>\n",
              "      <td>1</td>\n",
              "    </tr>\n",
              "    <tr>\n",
              "      <th>3</th>\n",
              "      <td>\"진짜 마지막 식상한 납치씬만 없었으면 더 좋았을건데\"</td>\n",
              "      <td>1</td>\n",
              "    </tr>\n",
              "    <tr>\n",
              "      <th>4</th>\n",
              "      <td>\"ILL 이서로이럽\"</td>\n",
              "      <td>1</td>\n",
              "    </tr>\n",
              "  </tbody>\n",
              "</table>\n",
              "</div>"
            ],
            "text/plain": [
              "                                  content  label\n",
              "0        \"이클오스트 갠적으로 그때그아인 조은데 사실 모든노래가찐\"      1\n",
              "1  \"요즘 계속 이클ost듣고 명장면 돌려보다보니 정주행 하고싶어지네요\"      1\n",
              "2                \"출첵! 이번주도 건강하게 무탈하게.ㅎㅇㅌ\"      1\n",
              "3          \"진짜 마지막 식상한 납치씬만 없었으면 더 좋았을건데\"      1\n",
              "4                             \"ILL 이서로이럽\"      1"
            ]
          },
          "metadata": {
            "tags": []
          },
          "execution_count": 20
        }
      ]
    },
    {
      "cell_type": "markdown",
      "metadata": {
        "id": "EuwxCA0opDLa",
        "colab_type": "text"
      },
      "source": [
        "# **전체 데이터 전처리**"
      ]
    },
    {
      "cell_type": "code",
      "metadata": {
        "id": "mpSsR_66o7Yo",
        "colab_type": "code",
        "colab": {
          "base_uri": "https://localhost:8080/",
          "height": 402
        },
        "outputId": "715a8b56-9d3f-44d0-c06a-3f1c430a48ed"
      },
      "source": [
        "dataset = pd.concat([sports, entertainment, drama], axis=0) # movie 제외\n",
        "dataset = dataset.reset_index()\n",
        "dataset = dataset.drop(['index'], axis=1)\n",
        "dataset"
      ],
      "execution_count": 21,
      "outputs": [
        {
          "output_type": "execute_result",
          "data": {
            "text/html": [
              "<div>\n",
              "<style scoped>\n",
              "    .dataframe tbody tr th:only-of-type {\n",
              "        vertical-align: middle;\n",
              "    }\n",
              "\n",
              "    .dataframe tbody tr th {\n",
              "        vertical-align: top;\n",
              "    }\n",
              "\n",
              "    .dataframe thead th {\n",
              "        text-align: right;\n",
              "    }\n",
              "</style>\n",
              "<table border=\"1\" class=\"dataframe\">\n",
              "  <thead>\n",
              "    <tr style=\"text-align: right;\">\n",
              "      <th></th>\n",
              "      <th>content</th>\n",
              "      <th>label</th>\n",
              "    </tr>\n",
              "  </thead>\n",
              "  <tbody>\n",
              "    <tr>\n",
              "      <th>0</th>\n",
              "      <td>\"수비 잘하면 선발 기회 많아지고 많아지다보면 타격경험 쌓여 타격도 자연스레 늘게 ...</td>\n",
              "      <td>1</td>\n",
              "    </tr>\n",
              "    <tr>\n",
              "      <th>1</th>\n",
              "      <td>\"찬호야 넌 대단하고 잘하구나 기아에 없었다면 안되겠다\"</td>\n",
              "      <td>1</td>\n",
              "    </tr>\n",
              "    <tr>\n",
              "      <th>2</th>\n",
              "      <td>\"박찬호 수비 보러 오라고 해서 왔는데....\\n\\n이게 호수비냐? ㅋㅋㅋㅋㅋㅋㅋㅋ...</td>\n",
              "      <td>-1</td>\n",
              "    </tr>\n",
              "    <tr>\n",
              "      <th>3</th>\n",
              "      <td>\"찬호야 ~~수비는 kbo  원탑이다*^^* 아쉬운건  스윙할때   부담 갖지말고 ...</td>\n",
              "      <td>0</td>\n",
              "    </tr>\n",
              "    <tr>\n",
              "      <th>4</th>\n",
              "      <td>\"복덩이 박찬호! 어디갓다 인제 온거야.. 내년이 더 기대되는 멋진 찬호다!\"</td>\n",
              "      <td>1</td>\n",
              "    </tr>\n",
              "    <tr>\n",
              "      <th>...</th>\n",
              "      <td>...</td>\n",
              "      <td>...</td>\n",
              "    </tr>\n",
              "    <tr>\n",
              "      <th>51862</th>\n",
              "      <td>\"99년생 아닐까요?\"</td>\n",
              "      <td>0</td>\n",
              "    </tr>\n",
              "    <tr>\n",
              "      <th>51863</th>\n",
              "      <td>\"기념으로 재작ㅋㅋㅋㅋ\"</td>\n",
              "      <td>0</td>\n",
              "    </tr>\n",
              "    <tr>\n",
              "      <th>51864</th>\n",
              "      <td>\"ㅋㅋㅋㅋㅋㅋㅋㅋㅋ멋있어유ㅠ\"</td>\n",
              "      <td>0</td>\n",
              "    </tr>\n",
              "    <tr>\n",
              "      <th>51865</th>\n",
              "      <td>\"이익준=조정석\"</td>\n",
              "      <td>0</td>\n",
              "    </tr>\n",
              "    <tr>\n",
              "      <th>51866</th>\n",
              "      <td>\"99학번이라서요\"</td>\n",
              "      <td>0</td>\n",
              "    </tr>\n",
              "  </tbody>\n",
              "</table>\n",
              "<p>51867 rows × 2 columns</p>\n",
              "</div>"
            ],
            "text/plain": [
              "                                                 content label\n",
              "0      \"수비 잘하면 선발 기회 많아지고 많아지다보면 타격경험 쌓여 타격도 자연스레 늘게 ...     1\n",
              "1                        \"찬호야 넌 대단하고 잘하구나 기아에 없었다면 안되겠다\"     1\n",
              "2      \"박찬호 수비 보러 오라고 해서 왔는데....\\n\\n이게 호수비냐? ㅋㅋㅋㅋㅋㅋㅋㅋ...    -1\n",
              "3      \"찬호야 ~~수비는 kbo  원탑이다*^^* 아쉬운건  스윙할때   부담 갖지말고 ...     0\n",
              "4            \"복덩이 박찬호! 어디갓다 인제 온거야.. 내년이 더 기대되는 멋진 찬호다!\"     1\n",
              "...                                                  ...   ...\n",
              "51862                                       \"99년생 아닐까요?\"     0\n",
              "51863                                      \"기념으로 재작ㅋㅋㅋㅋ\"     0\n",
              "51864                                   \"ㅋㅋㅋㅋㅋㅋㅋㅋㅋ멋있어유ㅠ\"     0\n",
              "51865                                          \"이익준=조정석\"     0\n",
              "51866                                         \"99학번이라서요\"     0\n",
              "\n",
              "[51867 rows x 2 columns]"
            ]
          },
          "metadata": {
            "tags": []
          },
          "execution_count": 21
        }
      ]
    },
    {
      "cell_type": "markdown",
      "metadata": {
        "id": "gIic4dyGtn_5",
        "colab_type": "text"
      },
      "source": [
        "## **데이터셋 확인**"
      ]
    },
    {
      "cell_type": "code",
      "metadata": {
        "id": "NCertxcSs-uw",
        "colab_type": "code",
        "colab": {
          "base_uri": "https://localhost:8080/",
          "height": 368
        },
        "outputId": "ee83c4c2-cf80-4274-98f8-b0022bebf274"
      },
      "source": [
        "import matplotlib.pyplot as plt\n",
        "\n",
        "# 각 데이터의 문자 길이\n",
        "dataset_length = dataset['content'].apply(len)\n",
        "\n",
        "# 각 리뷰의 길이 시각화\n",
        "plt.figure(figsize=(12,5))\n",
        "# 히스토그램 이용\n",
        "plt.hist(dataset_length, bins=200, alpha=0.5, color='r', label='word')\n",
        "plt.yscale('log', nonposy='clip')\n",
        "plt.title('Log-Histogram of Length of Reply')\n",
        "plt.xlabel('Length of Reply')\n",
        "plt.ylabel('Number of Reply')"
      ],
      "execution_count": 22,
      "outputs": [
        {
          "output_type": "execute_result",
          "data": {
            "text/plain": [
              "Text(0, 0.5, 'Number of Reply')"
            ]
          },
          "metadata": {
            "tags": []
          },
          "execution_count": 22
        },
        {
          "output_type": "display_data",
          "data": {
            "image/png": "[encoded data removed]",
            "text/plain": [
              "<Figure size 864x360 with 1 Axes>"
            ]
          },
          "metadata": {
            "tags": [],
            "needs_background": "light"
          }
        }
      ]
    },
    {
      "cell_type": "code",
      "metadata": {
        "id": "ctZ3VY35tFe6",
        "colab_type": "code",
        "colab": {
          "base_uri": "https://localhost:8080/",
          "height": 374
        },
        "outputId": "d4046c84-ca77-4075-cf12-3ad13c4c4b6d"
      },
      "source": [
        "# 각 리뷰당 단어의 개수\n",
        "dataset_word_counts = dataset['content'].apply(lambda x:len(x.split(' ')))\n",
        "\n",
        "# 단어의 개수 시각화\n",
        "plt.figure(figsize=(10, 5))\n",
        "plt.hist(dataset_word_counts, bins=50, facecolor='r', label='train')\n",
        "plt.title('Log-Histogram of Word Count in Reply', fontsize=15)\n",
        "plt.yscale('log', nonposy='clip')\n",
        "plt.legend()\n",
        "plt.xlabel('Number of Words', fontsize=15)\n",
        "plt.ylabel('Number of Reply', fontsize=15)"
      ],
      "execution_count": 23,
      "outputs": [
        {
          "output_type": "execute_result",
          "data": {
            "text/plain": [
              "Text(0, 0.5, 'Number of Reply')"
            ]
          },
          "metadata": {
            "tags": []
          },
          "execution_count": 23
        },
        {
          "output_type": "display_data",
          "data": {
            "image/png": "[encoded data removed]",
            "text/plain": [
              "<Figure size 720x360 with 1 Axes>"
            ]
          },
          "metadata": {
            "tags": [],
            "needs_background": "light"
          }
        }
      ]
    },
    {
      "cell_type": "code",
      "metadata": {
        "id": "_jgI7TnItV_A",
        "colab_type": "code",
        "colab": {
          "base_uri": "https://localhost:8080/",
          "height": 320
        },
        "outputId": "9741afaa-df16-4774-bdab-2de14146267b"
      },
      "source": [
        "# 박스 플롯을 이용해 문장 내 단어수 확인\n",
        "plt.figure(figsize=(12,5))\n",
        "plt.boxplot(dataset_length, labels=['token'], showmeans=True)\n",
        "\n",
        "plt.show()"
      ],
      "execution_count": 24,
      "outputs": [
        {
          "output_type": "display_data",
          "data": {
            "image/png": "[encoded data removed]",
            "text/plain": [
              "<Figure size 864x360 with 1 Axes>"
            ]
          },
          "metadata": {
            "tags": [],
            "needs_background": "light"
          }
        }
      ]
    },
    {
      "cell_type": "markdown",
      "metadata": {
        "id": "T9eexXmkvonN",
        "colab_type": "text"
      },
      "source": [
        "## **데이터 전처리**"
      ]
    },
    {
      "cell_type": "code",
      "metadata": {
        "id": "TPsTfZ5Vtkt0",
        "colab_type": "code",
        "colab": {
          "base_uri": "https://localhost:8080/",
          "height": 213
        },
        "outputId": "91bd6d95-81bb-4b44-eba2-a3853a3229de"
      },
      "source": [
        "import re\n",
        "\n",
        "for i in tqdm(range(len(dataset))):\n",
        "    dataset['content'][i] = dataset['content'][i].replace('\"', '').replace('\\\\t', '').replace('\\\\n', '').replace('ㅋㅋㅋ', 'ㅋ')\n",
        "    if len(dataset['content'][i]) >= 5:\n",
        "        pass\n",
        "    else:\n",
        "        dataset['content'][i] = 0\n",
        "\n",
        "dataset.head()"
      ],
      "execution_count": 25,
      "outputs": [
        {
          "output_type": "stream",
          "text": [
            "100%|██████████| 51867/51867 [00:51<00:00, 998.04it/s]\n"
          ],
          "name": "stderr"
        },
        {
          "output_type": "execute_result",
          "data": {
            "text/html": [
              "<div>\n",
              "<style scoped>\n",
              "    .dataframe tbody tr th:only-of-type {\n",
              "        vertical-align: middle;\n",
              "    }\n",
              "\n",
              "    .dataframe tbody tr th {\n",
              "        vertical-align: top;\n",
              "    }\n",
              "\n",
              "    .dataframe thead th {\n",
              "        text-align: right;\n",
              "    }\n",
              "</style>\n",
              "<table border=\"1\" class=\"dataframe\">\n",
              "  <thead>\n",
              "    <tr style=\"text-align: right;\">\n",
              "      <th></th>\n",
              "      <th>content</th>\n",
              "      <th>label</th>\n",
              "    </tr>\n",
              "  </thead>\n",
              "  <tbody>\n",
              "    <tr>\n",
              "      <th>0</th>\n",
              "      <td>\"수비 잘하면 선발 기회 많아지고 많아지다보면 타격경험 쌓여 타격도 자연스레 늘게 ...</td>\n",
              "      <td>1</td>\n",
              "    </tr>\n",
              "    <tr>\n",
              "      <th>1</th>\n",
              "      <td>\"찬호야 넌 대단하고 잘하구나 기아에 없었다면 안되겠다\"</td>\n",
              "      <td>1</td>\n",
              "    </tr>\n",
              "    <tr>\n",
              "      <th>2</th>\n",
              "      <td>\"박찬호 수비 보러 오라고 해서 왔는데....\\n\\n이게 호수비냐? ㅋㅋㅋㅋ\\n\\n...</td>\n",
              "      <td>-1</td>\n",
              "    </tr>\n",
              "    <tr>\n",
              "      <th>3</th>\n",
              "      <td>\"찬호야 ~~수비는 kbo  원탑이다*^^* 아쉬운건  스윙할때   부담 갖지말고 ...</td>\n",
              "      <td>0</td>\n",
              "    </tr>\n",
              "    <tr>\n",
              "      <th>4</th>\n",
              "      <td>\"복덩이 박찬호! 어디갓다 인제 온거야.. 내년이 더 기대되는 멋진 찬호다!\"</td>\n",
              "      <td>1</td>\n",
              "    </tr>\n",
              "  </tbody>\n",
              "</table>\n",
              "</div>"
            ],
            "text/plain": [
              "                                             content label\n",
              "0  \"수비 잘하면 선발 기회 많아지고 많아지다보면 타격경험 쌓여 타격도 자연스레 늘게 ...     1\n",
              "1                    \"찬호야 넌 대단하고 잘하구나 기아에 없었다면 안되겠다\"     1\n",
              "2  \"박찬호 수비 보러 오라고 해서 왔는데....\\n\\n이게 호수비냐? ㅋㅋㅋㅋ\\n\\n...    -1\n",
              "3  \"찬호야 ~~수비는 kbo  원탑이다*^^* 아쉬운건  스윙할때   부담 갖지말고 ...     0\n",
              "4        \"복덩이 박찬호! 어디갓다 인제 온거야.. 내년이 더 기대되는 멋진 찬호다!\"     1"
            ]
          },
          "metadata": {
            "tags": []
          },
          "execution_count": 25
        }
      ]
    },
    {
      "cell_type": "code",
      "metadata": {
        "id": "UlfkgBYzuKZ5",
        "colab_type": "code",
        "colab": {
          "base_uri": "https://localhost:8080/",
          "height": 34
        },
        "outputId": "fe7e550c-4814-4aa7-e17e-0b74049a0f58"
      },
      "source": [
        "dataset = dataset[dataset['content'] != 0]\n",
        "dataset = dataset[dataset['label'] != 0 ] # 이진분류를 위해 0 라벨 제거\n",
        "dataset = dataset.reset_index()\n",
        "dataset = dataset.drop(['index'], axis=1)\n",
        "len(dataset)"
      ],
      "execution_count": 26,
      "outputs": [
        {
          "output_type": "execute_result",
          "data": {
            "text/plain": [
              "50984"
            ]
          },
          "metadata": {
            "tags": []
          },
          "execution_count": 26
        }
      ]
    },
    {
      "cell_type": "code",
      "metadata": {
        "id": "8TszYlfYknW6",
        "colab_type": "code",
        "colab": {
          "base_uri": "https://localhost:8080/",
          "height": 248
        },
        "outputId": "4a032659-d26b-4d34-c834-1521a0c09dc4"
      },
      "source": [
        "for i in tqdm(range(len(dataset))):\n",
        "    if dataset['label'][i] == 1:\n",
        "        pass\n",
        "    elif dataset['label'][i] == 0:\n",
        "        pass\n",
        "    elif dataset['label'][i] == -1:\n",
        "        pass\n",
        "    else:\n",
        "        print(i)\n",
        "\n",
        "dataset.head()"
      ],
      "execution_count": 27,
      "outputs": [
        {
          "output_type": "stream",
          "text": [
            " 76%|███████▌  | 38639/50984 [00:01<00:00, 36349.82it/s]"
          ],
          "name": "stderr"
        },
        {
          "output_type": "stream",
          "text": [
            "33934\n",
            "34610\n"
          ],
          "name": "stdout"
        },
        {
          "output_type": "stream",
          "text": [
            "100%|██████████| 50984/50984 [00:01<00:00, 38981.69it/s]\n"
          ],
          "name": "stderr"
        },
        {
          "output_type": "execute_result",
          "data": {
            "text/html": [
              "<div>\n",
              "<style scoped>\n",
              "    .dataframe tbody tr th:only-of-type {\n",
              "        vertical-align: middle;\n",
              "    }\n",
              "\n",
              "    .dataframe tbody tr th {\n",
              "        vertical-align: top;\n",
              "    }\n",
              "\n",
              "    .dataframe thead th {\n",
              "        text-align: right;\n",
              "    }\n",
              "</style>\n",
              "<table border=\"1\" class=\"dataframe\">\n",
              "  <thead>\n",
              "    <tr style=\"text-align: right;\">\n",
              "      <th></th>\n",
              "      <th>content</th>\n",
              "      <th>label</th>\n",
              "    </tr>\n",
              "  </thead>\n",
              "  <tbody>\n",
              "    <tr>\n",
              "      <th>0</th>\n",
              "      <td>\"수비 잘하면 선발 기회 많아지고 많아지다보면 타격경험 쌓여 타격도 자연스레 늘게 ...</td>\n",
              "      <td>1</td>\n",
              "    </tr>\n",
              "    <tr>\n",
              "      <th>1</th>\n",
              "      <td>\"찬호야 넌 대단하고 잘하구나 기아에 없었다면 안되겠다\"</td>\n",
              "      <td>1</td>\n",
              "    </tr>\n",
              "    <tr>\n",
              "      <th>2</th>\n",
              "      <td>\"박찬호 수비 보러 오라고 해서 왔는데....\\n\\n이게 호수비냐? ㅋㅋㅋㅋ\\n\\n...</td>\n",
              "      <td>-1</td>\n",
              "    </tr>\n",
              "    <tr>\n",
              "      <th>3</th>\n",
              "      <td>\"찬호야 ~~수비는 kbo  원탑이다*^^* 아쉬운건  스윙할때   부담 갖지말고 ...</td>\n",
              "      <td>0</td>\n",
              "    </tr>\n",
              "    <tr>\n",
              "      <th>4</th>\n",
              "      <td>\"복덩이 박찬호! 어디갓다 인제 온거야.. 내년이 더 기대되는 멋진 찬호다!\"</td>\n",
              "      <td>1</td>\n",
              "    </tr>\n",
              "  </tbody>\n",
              "</table>\n",
              "</div>"
            ],
            "text/plain": [
              "                                             content label\n",
              "0  \"수비 잘하면 선발 기회 많아지고 많아지다보면 타격경험 쌓여 타격도 자연스레 늘게 ...     1\n",
              "1                    \"찬호야 넌 대단하고 잘하구나 기아에 없었다면 안되겠다\"     1\n",
              "2  \"박찬호 수비 보러 오라고 해서 왔는데....\\n\\n이게 호수비냐? ㅋㅋㅋㅋ\\n\\n...    -1\n",
              "3  \"찬호야 ~~수비는 kbo  원탑이다*^^* 아쉬운건  스윙할때   부담 갖지말고 ...     0\n",
              "4        \"복덩이 박찬호! 어디갓다 인제 온거야.. 내년이 더 기대되는 멋진 찬호다!\"     1"
            ]
          },
          "metadata": {
            "tags": []
          },
          "execution_count": 27
        }
      ]
    },
    {
      "cell_type": "code",
      "metadata": {
        "id": "xPLQSY6Ra4Km",
        "colab_type": "code",
        "colab": {}
      },
      "source": [
        "dataset['label'][33934] = -1\n",
        "dataset['label'][34610] = -1"
      ],
      "execution_count": 28,
      "outputs": []
    },
    {
      "cell_type": "code",
      "metadata": {
        "id": "2MG60KCTuTiy",
        "colab_type": "code",
        "colab": {
          "base_uri": "https://localhost:8080/",
          "height": 368
        },
        "outputId": "86e04a0f-a92a-4e13-9962-322950b7a057"
      },
      "source": [
        "# 각 데이터의 문자 길이\n",
        "dataset_length = dataset['content'].apply(len)\n",
        "\n",
        "# 각 리뷰의 길이 시각화\n",
        "plt.figure(figsize=(12,5))\n",
        "# 히스토그램 이용\n",
        "plt.hist(dataset_length, bins=200, alpha=0.5, color='r', label='word')\n",
        "plt.yscale('log', nonposy='clip')\n",
        "plt.title('Log-Histogram of Length of Reply')\n",
        "plt.xlabel('Length of Reply')\n",
        "plt.ylabel('Number of Reply')"
      ],
      "execution_count": 29,
      "outputs": [
        {
          "output_type": "execute_result",
          "data": {
            "text/plain": [
              "Text(0, 0.5, 'Number of Reply')"
            ]
          },
          "metadata": {
            "tags": []
          },
          "execution_count": 29
        },
        {
          "output_type": "display_data",
          "data": {
            "image/png": "[encoded data removed]",
            "text/plain": [
              "<Figure size 864x360 with 1 Axes>"
            ]
          },
          "metadata": {
            "tags": [],
            "needs_background": "light"
          }
        }
      ]
    },
    {
      "cell_type": "code",
      "metadata": {
        "id": "tQZrd4m-xiwW",
        "colab_type": "code",
        "colab": {
          "base_uri": "https://localhost:8080/",
          "height": 374
        },
        "outputId": "b98e8b83-4594-4c05-cb77-d8911de39e16"
      },
      "source": [
        "# 각 리뷰당 단어의 개수\n",
        "dataset_word_counts = dataset['content'].apply(lambda x:len(x.split(' ')))\n",
        "\n",
        "# 단어의 개수 시각화\n",
        "plt.figure(figsize=(10, 5))\n",
        "plt.hist(dataset_word_counts, bins=50, facecolor='r', label='train')\n",
        "plt.title('Log-Histogram of Word Count in Reply', fontsize=15)\n",
        "plt.yscale('log', nonposy='clip')\n",
        "plt.legend()\n",
        "plt.xlabel('Number of Words', fontsize=15)\n",
        "plt.ylabel('Number of Reply', fontsize=15)"
      ],
      "execution_count": 30,
      "outputs": [
        {
          "output_type": "execute_result",
          "data": {
            "text/plain": [
              "Text(0, 0.5, 'Number of Reply')"
            ]
          },
          "metadata": {
            "tags": []
          },
          "execution_count": 30
        },
        {
          "output_type": "display_data",
          "data": {
            "image/png": "[encoded data removed]",
            "text/plain": [
              "<Figure size 720x360 with 1 Axes>"
            ]
          },
          "metadata": {
            "tags": [],
            "needs_background": "light"
          }
        }
      ]
    },
    {
      "cell_type": "code",
      "metadata": {
        "id": "74VNF9NzvhlB",
        "colab_type": "code",
        "colab": {
          "base_uri": "https://localhost:8080/",
          "height": 320
        },
        "outputId": "02eaf10c-e20a-4a00-af93-be3230b97830"
      },
      "source": [
        "# 박스 플롯을 이용해 문장 내 단어수 확인\n",
        "plt.figure(figsize=(12,5))\n",
        "plt.boxplot(dataset_length, labels=['token'], showmeans=True)\n",
        "\n",
        "plt.show()"
      ],
      "execution_count": 31,
      "outputs": [
        {
          "output_type": "display_data",
          "data": {
            "image/png": "[encoded data removed]",
            "text/plain": [
              "<Figure size 864x360 with 1 Axes>"
            ]
          },
          "metadata": {
            "tags": [],
            "needs_background": "light"
          }
        }
      ]
    },
    {
      "cell_type": "markdown",
      "metadata": {
        "id": "cAywnstjvjUI",
        "colab_type": "text"
      },
      "source": [
        "# **학습 데이터, 테스트 데이터 형성**"
      ]
    },
    {
      "cell_type": "code",
      "metadata": {
        "id": "z_bEdZYNvivH",
        "colab_type": "code",
        "colab": {
          "base_uri": "https://localhost:8080/",
          "height": 34
        },
        "outputId": "2d1c5687-1ee2-44f9-d917-e3696c679b59"
      },
      "source": [
        "train_data = dataset.sample(frac=0.8, random_state=2020)\n",
        "test_data = dataset.drop(train_data.index)\n",
        "len(dataset), len(train_data), len(test_data)"
      ],
      "execution_count": 93,
      "outputs": [
        {
          "output_type": "execute_result",
          "data": {
            "text/plain": [
              "(50984, 40787, 10197)"
            ]
          },
          "metadata": {
            "tags": []
          },
          "execution_count": 93
        }
      ]
    },
    {
      "cell_type": "code",
      "metadata": {
        "id": "v9mcg0s-viCi",
        "colab_type": "code",
        "colab": {}
      },
      "source": [
        "train_data.to_csv('train_data.csv')\n",
        "test_data.to_csv('test_data.csv')"
      ],
      "execution_count": 94,
      "outputs": []
    }
  ]
}